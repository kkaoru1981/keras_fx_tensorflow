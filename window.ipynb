{
 "cells": [
  {
   "cell_type": "code",
   "execution_count": 1,
   "metadata": {},
   "outputs": [
    {
     "data": {
      "text/plain": [
       "0"
      ]
     },
     "execution_count": 1,
     "metadata": {},
     "output_type": "execute_result"
    }
   ],
   "source": [
    "# app.py\n",
    "import wx\n",
    "import subprocess\n",
    "import test\n",
    "\n",
    "\n",
    "class MyApp(wx.Frame):\n",
    "\n",
    "    def __init__(self, *args, **kw):\n",
    "        super(MyApp, self).__init__(*args, **kw)\n",
    "\n",
    "        self.init_ui()\n",
    "\n",
    "    def init_ui(self):\n",
    "        self.SetTitle('テキストボックス')\n",
    "        self.SetSize((400, 300))\n",
    "        self.Show()\n",
    "\n",
    "        panel_ui = wx.Panel(self, -1, pos=(50, 50), size=(300, 200))\n",
    "\n",
    "        self.label = wx.StaticText(panel_ui, -1, '', pos=(10, 10))\n",
    "\n",
    "        self.box = wx.TextCtrl(panel_ui, -1, pos=(10, 50))\n",
    "\n",
    "        btn = wx.Button(panel_ui, -1, 'コピー', pos=(10, 90))\n",
    "        btn.Bind(wx.EVT_BUTTON, self.clicked)\n",
    "\n",
    "    def clicked(self, event):\n",
    "        result = test.Culc(1,2)\n",
    "                \n",
    "        #text = self.box.GetValue()\n",
    "        self.box.Clear()\n",
    "        self.label.SetLabel(str(result))\n",
    "\n",
    "\n",
    "app = wx.App()\n",
    "MyApp(None)\n",
    "app.MainLoop()"
   ]
  }
 ],
 "metadata": {
  "kernelspec": {
   "display_name": "Python 3",
   "language": "python",
   "name": "python3"
  },
  "language_info": {
   "codemirror_mode": {
    "name": "ipython",
    "version": 3
   },
   "file_extension": ".py",
   "mimetype": "text/x-python",
   "name": "python",
   "nbconvert_exporter": "python",
   "pygments_lexer": "ipython3",
   "version": "3.6.4"
  }
 },
 "nbformat": 4,
 "nbformat_minor": 2
}
